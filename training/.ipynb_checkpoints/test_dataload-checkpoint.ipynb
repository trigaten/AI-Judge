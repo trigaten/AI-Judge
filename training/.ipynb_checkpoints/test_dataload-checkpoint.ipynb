{
 "cells": [
  {
   "cell_type": "code",
   "execution_count": 1,
   "id": "1eca750a-23f7-4d4b-a47d-2e682c922f72",
   "metadata": {},
   "outputs": [
    {
     "name": "stderr",
     "output_type": "stream",
     "text": [
      "[nltk_data] Downloading package punkt to C:\\Users\\Luke\n",
      "[nltk_data]     Luo\\AppData\\Roaming\\nltk_data...\n",
      "[nltk_data]   Package punkt is already up-to-date!\n"
     ]
    }
   ],
   "source": [
    "import torch\n",
    "from torch.utils.data import Dataset, DataLoader\n",
    "from torchvision import datasets\n",
    "import utils\n",
    "import pandas as pd\n",
    "import dataload"
   ]
  },
  {
   "cell_type": "code",
   "execution_count": 2,
   "id": "0b9419bf-a9e3-4574-ad04-a052eb40519b",
   "metadata": {},
   "outputs": [
    {
     "data": {
      "text/html": [
       "<div>\n",
       "<style scoped>\n",
       "    .dataframe tbody tr th:only-of-type {\n",
       "        vertical-align: middle;\n",
       "    }\n",
       "\n",
       "    .dataframe tbody tr th {\n",
       "        vertical-align: top;\n",
       "    }\n",
       "\n",
       "    .dataframe thead th {\n",
       "        text-align: right;\n",
       "    }\n",
       "</style>\n",
       "<table border=\"1\" class=\"dataframe\">\n",
       "  <thead>\n",
       "    <tr style=\"text-align: right;\">\n",
       "      <th></th>\n",
       "      <th>post_body</th>\n",
       "      <th>judgement</th>\n",
       "      <th>comment_body</th>\n",
       "    </tr>\n",
       "  </thead>\n",
       "  <tbody>\n",
       "    <tr>\n",
       "      <th>0</th>\n",
       "      <td>[AITA, for, giving, my, group, member, a, bad,...</td>\n",
       "      <td>1</td>\n",
       "      <td>[YTA, She, contributed, to, the, project, (, m...</td>\n",
       "    </tr>\n",
       "    <tr>\n",
       "      <th>1</th>\n",
       "      <td>[AITA, for, agreeing, to, date, my, SO, just, ...</td>\n",
       "      <td>1</td>\n",
       "      <td>[ESH, but, holy, shit, this, is, a, terrible, ...</td>\n",
       "    </tr>\n",
       "    <tr>\n",
       "      <th>2</th>\n",
       "      <td>[AITA, for, holding, the, wrist, of, a, 13, ye...</td>\n",
       "      <td>0</td>\n",
       "      <td>[NTA, ., Your, wife, is, the, asshole, here, ,...</td>\n",
       "    </tr>\n",
       "    <tr>\n",
       "      <th>3</th>\n",
       "      <td>[AITA, for, snapping, at, my, boyfriend, in, f...</td>\n",
       "      <td>0</td>\n",
       "      <td>[NTA, ., You, tried, to, tell, himcalmly, and,...</td>\n",
       "    </tr>\n",
       "    <tr>\n",
       "      <th>4</th>\n",
       "      <td>[AITA, for, calling, out, my, mother, ?, To, p...</td>\n",
       "      <td>0</td>\n",
       "      <td>[NTA, Your, mom, should, pick, up, that, bible...</td>\n",
       "    </tr>\n",
       "    <tr>\n",
       "      <th>...</th>\n",
       "      <td>...</td>\n",
       "      <td>...</td>\n",
       "      <td>...</td>\n",
       "    </tr>\n",
       "    <tr>\n",
       "      <th>392</th>\n",
       "      <td>[AITA, for, wanting, to, get, my, ex, fired, ?...</td>\n",
       "      <td>1</td>\n",
       "      <td>[ESH, ., Your, ex, sounds, like, a, massive, p...</td>\n",
       "    </tr>\n",
       "    <tr>\n",
       "      <th>393</th>\n",
       "      <td>[AITA-, My, Puppy, Ate, a, Drunk, Girls, Shoes...</td>\n",
       "      <td>0</td>\n",
       "      <td>[NTA, ., She, should, have, looked, for, her, ...</td>\n",
       "    </tr>\n",
       "    <tr>\n",
       "      <th>394</th>\n",
       "      <td>[WIBTA, if, ask, my, dead, dad, 's, sisters, i...</td>\n",
       "      <td>0</td>\n",
       "      <td>[NTA, ., You, ’, re, a, parent, now, -, would,...</td>\n",
       "    </tr>\n",
       "    <tr>\n",
       "      <th>395</th>\n",
       "      <td>[AITA, for, expecting, to, share, finances, -,...</td>\n",
       "      <td>0</td>\n",
       "      <td>[NAH, ., Different, couples, handle, money, di...</td>\n",
       "    </tr>\n",
       "    <tr>\n",
       "      <th>396</th>\n",
       "      <td>[AITA, for, not, wanting, to, attend, my, frie...</td>\n",
       "      <td>1</td>\n",
       "      <td>[YTA, ,, not, for, not, wanting, to, attend, ,...</td>\n",
       "    </tr>\n",
       "  </tbody>\n",
       "</table>\n",
       "<p>397 rows × 3 columns</p>\n",
       "</div>"
      ],
      "text/plain": [
       "                                             post_body  judgement  \\\n",
       "0    [AITA, for, giving, my, group, member, a, bad,...          1   \n",
       "1    [AITA, for, agreeing, to, date, my, SO, just, ...          1   \n",
       "2    [AITA, for, holding, the, wrist, of, a, 13, ye...          0   \n",
       "3    [AITA, for, snapping, at, my, boyfriend, in, f...          0   \n",
       "4    [AITA, for, calling, out, my, mother, ?, To, p...          0   \n",
       "..                                                 ...        ...   \n",
       "392  [AITA, for, wanting, to, get, my, ex, fired, ?...          1   \n",
       "393  [AITA-, My, Puppy, Ate, a, Drunk, Girls, Shoes...          0   \n",
       "394  [WIBTA, if, ask, my, dead, dad, 's, sisters, i...          0   \n",
       "395  [AITA, for, expecting, to, share, finances, -,...          0   \n",
       "396  [AITA, for, not, wanting, to, attend, my, frie...          1   \n",
       "\n",
       "                                          comment_body  \n",
       "0    [YTA, She, contributed, to, the, project, (, m...  \n",
       "1    [ESH, but, holy, shit, this, is, a, terrible, ...  \n",
       "2    [NTA, ., Your, wife, is, the, asshole, here, ,...  \n",
       "3    [NTA, ., You, tried, to, tell, himcalmly, and,...  \n",
       "4    [NTA, Your, mom, should, pick, up, that, bible...  \n",
       "..                                                 ...  \n",
       "392  [ESH, ., Your, ex, sounds, like, a, massive, p...  \n",
       "393  [NTA, ., She, should, have, looked, for, her, ...  \n",
       "394  [NTA, ., You, ’, re, a, parent, now, -, would,...  \n",
       "395  [NAH, ., Different, couples, handle, money, di...  \n",
       "396  [YTA, ,, not, for, not, wanting, to, attend, ,...  \n",
       "\n",
       "[397 rows x 3 columns]"
      ]
     },
     "execution_count": 2,
     "metadata": {},
     "output_type": "execute_result"
    }
   ],
   "source": [
    "df = utils.read_json('example.json')\n",
    "df = utils.preprocess(df)\n",
    "df"
   ]
  },
  {
   "cell_type": "code",
   "execution_count": 3,
   "id": "034d0e16-2b4b-4441-8a70-beb46a0c3a6b",
   "metadata": {},
   "outputs": [],
   "source": [
    "dataloader = dataload.get_dataloader(df)"
   ]
  },
  {
   "cell_type": "code",
   "execution_count": 4,
   "id": "771ddcc5-776f-4d73-b54e-89912af88d61",
   "metadata": {},
   "outputs": [
    {
     "name": "stderr",
     "output_type": "stream",
     "text": [
      "C:\\Users\\Luke Luo\\git\\AI-Judge\\training\\dataload.py:48: FutureWarning: In a future version of pandas all arguments of DataFrame.drop except for the argument 'labels' will be keyword-only\n",
      "  post = post.drop(0, 1)\n"
     ]
    }
   ],
   "source": [
    "post = dataload.sample_dl(dataloader)"
   ]
  },
  {
   "cell_type": "code",
   "execution_count": 5,
   "id": "79b708d1-4227-48ed-be94-64aafa57ab02",
   "metadata": {},
   "outputs": [
    {
     "data": {
      "text/html": [
       "<div>\n",
       "<style scoped>\n",
       "    .dataframe tbody tr th:only-of-type {\n",
       "        vertical-align: middle;\n",
       "    }\n",
       "\n",
       "    .dataframe tbody tr th {\n",
       "        vertical-align: top;\n",
       "    }\n",
       "\n",
       "    .dataframe thead th {\n",
       "        text-align: right;\n",
       "    }\n",
       "</style>\n",
       "<table border=\"1\" class=\"dataframe\">\n",
       "  <thead>\n",
       "    <tr style=\"text-align: right;\">\n",
       "      <th></th>\n",
       "      <th>post_body</th>\n",
       "      <th>comment_body</th>\n",
       "    </tr>\n",
       "  </thead>\n",
       "  <tbody>\n",
       "    <tr>\n",
       "      <th>1</th>\n",
       "      <td>[AITA, for, pushing, my, gf, off, me, ?, She, ...</td>\n",
       "      <td>[YTA, ., your, girlfriend, was, excited, and, ...</td>\n",
       "    </tr>\n",
       "  </tbody>\n",
       "</table>\n",
       "</div>"
      ],
      "text/plain": [
       "                                           post_body  \\\n",
       "1  [AITA, for, pushing, my, gf, off, me, ?, She, ...   \n",
       "\n",
       "                                        comment_body  \n",
       "1  [YTA, ., your, girlfriend, was, excited, and, ...  "
      ]
     },
     "execution_count": 5,
     "metadata": {},
     "output_type": "execute_result"
    }
   ],
   "source": [
    "post"
   ]
  },
  {
   "cell_type": "code",
   "execution_count": 6,
   "id": "6a16ad51-aed1-42c4-b52d-0cc7e22d83eb",
   "metadata": {},
   "outputs": [
    {
     "data": {
      "text/plain": [
       "0      [AITA, for, giving, my, group, member, a, bad,...\n",
       "1      [AITA, for, agreeing, to, date, my, SO, just, ...\n",
       "2      [AITA, for, holding, the, wrist, of, a, 13, ye...\n",
       "3      [AITA, for, snapping, at, my, boyfriend, in, f...\n",
       "4      [AITA, for, calling, out, my, mother, ?, To, p...\n",
       "                             ...                        \n",
       "392    [AITA, for, wanting, to, get, my, ex, fired, ?...\n",
       "393    [AITA-, My, Puppy, Ate, a, Drunk, Girls, Shoes...\n",
       "394    [WIBTA, if, ask, my, dead, dad, 's, sisters, i...\n",
       "395    [AITA, for, expecting, to, share, finances, -,...\n",
       "396    [AITA, for, not, wanting, to, attend, my, frie...\n",
       "Name: post_body, Length: 397, dtype: object"
      ]
     },
     "execution_count": 6,
     "metadata": {},
     "output_type": "execute_result"
    }
   ],
   "source": [
    "df['post_body']"
   ]
  },
  {
   "cell_type": "code",
   "execution_count": null,
   "id": "c7140ad3-1792-4b62-b496-f3dc0385f84b",
   "metadata": {},
   "outputs": [],
   "source": []
  }
 ],
 "metadata": {
  "kernelspec": {
   "display_name": "Python 3 (ipykernel)",
   "language": "python",
   "name": "python3"
  },
  "language_info": {
   "codemirror_mode": {
    "name": "ipython",
    "version": 3
   },
   "file_extension": ".py",
   "mimetype": "text/x-python",
   "name": "python",
   "nbconvert_exporter": "python",
   "pygments_lexer": "ipython3",
   "version": "3.8.12"
  }
 },
 "nbformat": 4,
 "nbformat_minor": 5
}
