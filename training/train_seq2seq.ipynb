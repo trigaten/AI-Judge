{
 "cells": [
  {
   "cell_type": "code",
   "execution_count": 7,
   "metadata": {},
   "outputs": [],
   "source": [
    "import torch\n",
    "import torch.nn as nn\n",
    "import torch.optim as optim\n",
    "import utils\n",
    "from AITA_Dataset import AITA_Dataset\n",
    "from torch.utils.data import DataLoader\n",
    "\n",
    "\n",
    "df = utils.read_json(\"example.json\")\n",
    "df = utils.preprocess(df)\n",
    "\n",
    "\n"
   ]
  },
  {
   "cell_type": "code",
   "execution_count": 8,
   "metadata": {},
   "outputs": [
    {
     "name": "stdout",
     "output_type": "stream",
     "text": [
      "(['<BEG>', 'AITA', 'for', 'giving', 'my', 'group', 'member', 'a', 'bad', '<UNK>', 'even', 'though', 'she', 'spent', 'as', 'long', 'on', 'the', 'project', 'as', 'everyone', 'else', '?', 'I', \"'m\", 'currently', 'taking', 'a', '<UNK>', '<UNK>', '<UNK>', 'class', 'in', 'college', ',', 'and', 'we', 'just', 'turned', 'in', 'our', 'group', 'project', 'for', 'the', 'semester', '.', 'Our', '<UNK>', 'was', 'to', 'design', 'an', '``', 'evil', '<UNK>', \"''\", 'game', 'that', 'would', '<UNK>', 'change', 'the', 'word', 'the', '<UNK>', 'was', 'guessing', 'every', 'time', 'they', 'picked', 'a', 'letter', 'so', 'that', 'the', 'new', 'word', 'does', \"n't\", '<UNK>', 'any', 'of', 'those', '<UNK>', '.', 'Maybe', 'for', 'some', 'this', 'would', 'be', 'simple', ',', 'but', 'I', \"'m\", 'not', 'the', 'best', 'at', 'this', 'class', 'so', 'it', 'took', 'me', 'a', 'long', 'time', 'to', 'figure', 'out', 'the', 'logic', 'behind', 'the', 'game', ',', 'and', 'it', 'was', \"n't\", 'fully', '<UNK>', 'until', 'the', 'day', 'before', 'it', 'was', 'due', '.', 'The', 'problem', 'is', ',', 'one', 'of', 'my', 'group', 'members', 'spent', 'a', 'long', 'time', '<UNK>', '<UNK>', '<UNK>', ',', 'game', 'screens', ',', 'etc', '.', 'but', 'made', 'no', 'effort', 'to', 'understand', 'how', 'the', 'game', 'actually', 'works', '.', 'She', 'did', \"n't\", 'attempt', 'to', 'understand', 'or', 'help', 'with', 'the', 'game', 'logic', 'and', 'just', 'spent', 'her', 'time', 'drawing', 'elaborate', 'menu', 'screens', '(', 'without', 'considering', 'that', 'the', 'rest', 'of', 'us', 'were', 'too', 'busy', 'doing', 'the', 'actual', 'hard', 'work', 'to', 'add', 'in', 'the', '<UNK>', 'and', '<UNK>', 'she', 'was', 'building', '<UNK>', 'for', ')', '.', 'As', 'the', '<UNK>', 'approached', 'it', 'became', 'clear', 'that', 'she', 'did', \"n't\", 'know', 'how', 'to', 'use', 'our', '<UNK>', 'to', 'actually', 'get', 'her', 'screens', 'to', 'draw', 'at', 'the', 'right', 'times', ',', 'because', 'she', 'had', \"n't\", 'paid', 'attention', 'or', 'asked', 'any', 'questions', 'about', 'what', 'the', 'rest', 'of', 'the', 'group', 'was', 'doing', '(', 'she', 'did', 'not', 'even', 'bother', 'to', 'read', 'the', '<UNK>', '<UNK>', 'the', 'actual', 'game', 'logic', ')', '.', 'Ultimately', 'we', 'tried', 'to', 'help', 'her', 'but', 'by', 'the', 'time', 'we', 'realized', 'the', 'problem', 'it', 'was', 'too', 'late', ',', 'so', 'almost', 'none', 'of', 'her', 'work', 'actually', 'made', 'it', 'into', 'the', 'final', 'program', '.', 'I', 'understand', 'that', 'she', 'did', 'spend', 'as', 'much', 'time', 'working', 'on', 'the', 'project', 'as', 'everyone', 'else', ',', 'but', 'I', 'found', 'it', 'extremely', 'annoying', 'that', 'she', 'spent', 'all', 'of', 'her', 'time', 'trying', 'to', 'make', 'the', 'game', '``', 'look', 'pretty', \"''\", 'without', '<UNK>', 'to', 'contribute', 'to', 'the', 'actual', 'challenging', 'parts', 'of', 'building', 'the', 'game', '.', 'As', 'a', 'result', ',', 'when', '<UNK>', 'the', 'group', ',', 'I', 'reported', 'that', 'she', 'had', 'done', 'the', 'least', 'work', ',', 'as', 'none', 'of', 'what', 'she', 'had', 'done', 'ended', 'up', 'helping', 'us', 'in', 'any', 'way', '.', 'Ultimately', 'this', 'will', 'probably', 'hurt', 'her', 'grade', '.', 'AITA', 'for', 'giving', 'her', 'a', 'bad', '<UNK>', '?', 'EDIT', ':', 'To', 'add', 'some', 'info', 'about', 'the', '<UNK>', ',', 'all', 'we', 'could', 'do', 'was', '<UNK>', 'a', 'percentage', 'of', 'the', 'work', 'done', 'by', 'each', 'of', 'our', 'groupmates', '(', 'ourselves', 'not', 'included', ')', '.', 'So', 'my', 'other', 'two', 'groupmates', 'were', 'given', 'grades', 'of', '<UNK>', 'than', '<UNK>', '%', ',', 'while', 'the', 'member', 'in', 'question', 'got', 'less', 'than', '<UNK>', '%', '.', 'There', 'was', 'no', 'way', 'to', 'actually', '<UNK>', 'each', 'member', \"'s\", '<UNK>', 'besides', 'just', 'giving', 'a', 'number', '<END>'], ['<BEG>', '<UNK>', 'She', '<UNK>', 'to', 'the', 'project', '(', 'maybe', 'not', 'the', 'same', 'way', 'as', 'you', 'and', 'your', 'other', 'group', 'mates', ')', ',', 'but', 'that', 'doesn', '’', 't', 'mean', 'that', 'you', 'need', 'to', '<UNK>', 'her', 'down', 'in', 'the', '<UNK>', '.', 'Also', ',', 'not', 'everyone', 'can', 'work', 'on', 'the', 'same', 'thing', 'at', 'once', ',', 'it', '’', 's', '<UNK>', 'and', 'in', 'some', '<UNK>', 'actually', '<UNK>', 'progress', '.', 'It', 'sounds', 'like', 'she', '<UNK>', '<UNK>', 'that', 'you', 'and', 'other', 'group', 'members', 'hadn', '’', 't', 'considered', 'to', 'be', 'important', ',', 'but', 'still', 'needed', 'some', 'work', '.', '<END>'])\n"
     ]
    }
   ],
   "source": [
    "# optimizer = optim.Adam(net.parameters(), lr=1e-4)\n",
    "\n",
    "word_to_idx, embeds = utils.get_embeddings(\"embeddings_30_1000\")\n",
    "\n",
    "\n",
    "dataset = AITA_Dataset(df, word_to_idx)\n",
    "print(dataset[0])\n",
    "dataloader = DataLoader(df, batch_size=6, shuffle=True)\n",
    "\n",
    "EPOCHS = 10\n",
    "for i in dataloader:\n",
    "    print(i)\n",
    "for epoch in range(EPOCHS):\n",
    "    for i, batch in enumerate(dataloader):\n",
    "        pass\n",
    "        print(post)\n",
    "        exit()\n",
    "        # teacher forcing 50% of the time and curriculum learning the other 50%\n",
    "        if epoch % 2 == 0:\n",
    "            pass\n",
    "        else:\n",
    "            pass\n"
   ]
  }
 ],
 "metadata": {
  "interpreter": {
   "hash": "e61c02c6acf22417c29e8a70dda14ceeb759185a4fdfa7262e09386a5c3ea102"
  },
  "kernelspec": {
   "display_name": "Python 3.9.7 64-bit ('AI-Judge': conda)",
   "name": "python3"
  },
  "language_info": {
   "codemirror_mode": {
    "name": "ipython",
    "version": 3
   },
   "file_extension": ".py",
   "mimetype": "text/x-python",
   "name": "python",
   "nbconvert_exporter": "python",
   "pygments_lexer": "ipython3",
   "version": "3.9.7"
  },
  "orig_nbformat": 4
 },
 "nbformat": 4,
 "nbformat_minor": 2
}
