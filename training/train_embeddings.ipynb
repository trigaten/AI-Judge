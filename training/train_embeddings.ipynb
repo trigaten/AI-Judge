{
 "cells": [
  {
   "cell_type": "code",
   "execution_count": 7,
   "metadata": {},
   "outputs": [],
   "source": [
    "import sys\n",
    "import utils\n",
    "df = utils.read_json(\"example.json\")\n",
    "df = utils.preprocess(df)"
   ]
  },
  {
   "cell_type": "code",
   "execution_count": 11,
   "metadata": {},
   "outputs": [],
   "source": [
    "vocabulary = utils.gen_vocabulary(df, 4)\n",
    "\n",
    "word_to_idx = {word:index for index, word in enumerate(vocabulary)}"
   ]
  },
  {
   "cell_type": "code",
   "execution_count": 12,
   "metadata": {},
   "outputs": [
    {
     "data": {
      "text/plain": [
       "{'AITA': 0,\n",
       " 'for': 1,\n",
       " 'giving': 2,\n",
       " 'my': 3,\n",
       " 'group': 4,\n",
       " 'member': 5,\n",
       " 'a': 6,\n",
       " 'bad': 7,\n",
       " 'eval': 8,\n",
       " 'even': 9,\n",
       " 'she': 10,\n",
       " 'spent': 11,\n",
       " 'as': 12,\n",
       " 'long': 13,\n",
       " 'on': 14,\n",
       " 'the': 15,\n",
       " 'project': 16,\n",
       " 'everyone': 17,\n",
       " 'else': 18,\n",
       " '?': 19,\n",
       " 'I': 20,\n",
       " \"'m\": 21,\n",
       " 'class': 22,\n",
       " 'in': 23,\n",
       " ',': 24,\n",
       " 'and': 25,\n",
       " 'we': 26,\n",
       " 'just': 27,\n",
       " 'our': 28,\n",
       " '.': 29,\n",
       " 'was': 30,\n",
       " 'to': 31,\n",
       " '``': 32,\n",
       " \"''\": 33,\n",
       " 'game': 34,\n",
       " 'that': 35,\n",
       " 'would': 36,\n",
       " 'word': 37,\n",
       " 'time': 38,\n",
       " 'so': 39,\n",
       " \"n't\": 40,\n",
       " 'any': 41,\n",
       " 'of': 42,\n",
       " 'some': 43,\n",
       " 'this': 44,\n",
       " 'be': 45,\n",
       " 'but': 46,\n",
       " 'not': 47,\n",
       " 'at': 48,\n",
       " 'it': 49,\n",
       " 'logic': 50,\n",
       " 'problem': 51,\n",
       " 'members': 52,\n",
       " 'screens': 53,\n",
       " 'made': 54,\n",
       " 'no': 55,\n",
       " 'understand': 56,\n",
       " 'how': 57,\n",
       " 'actually': 58,\n",
       " 'She': 59,\n",
       " 'did': 60,\n",
       " 'or': 61,\n",
       " 'help': 62,\n",
       " 'her': 63,\n",
       " '(': 64,\n",
       " 'without': 65,\n",
       " 'rest': 66,\n",
       " 'us': 67,\n",
       " 'were': 68,\n",
       " 'too': 69,\n",
       " 'doing': 70,\n",
       " 'actual': 71,\n",
       " 'work': 72,\n",
       " 'add': 73,\n",
       " 'building': 74,\n",
       " ')': 75,\n",
       " 'As': 76,\n",
       " 'code': 77,\n",
       " 'had': 78,\n",
       " 'about': 79,\n",
       " 'what': 80,\n",
       " 'Ultimately': 81,\n",
       " 'by': 82,\n",
       " 'none': 83,\n",
       " 'all': 84,\n",
       " 'done': 85,\n",
       " 'way': 86,\n",
       " 'evaluation': 87,\n",
       " 'each': 88,\n",
       " 'groupmates': 89,\n",
       " 'other': 90,\n",
       " 'than': 91,\n",
       " '33': 92,\n",
       " '%': 93,\n",
       " 'same': 94,\n",
       " 'you': 95,\n",
       " '’': 96,\n",
       " 't': 97}"
      ]
     },
     "execution_count": 12,
     "metadata": {},
     "output_type": "execute_result"
    }
   ],
   "source": [
    "import torch\n",
    "from torch import nn\n",
    "\n",
    "embeddings = nn.Embedding(len(vocabulary), 30)\n",
    "\n",
    "word_to_idx"
   ]
  }
 ],
 "metadata": {
  "interpreter": {
   "hash": "40d3a090f54c6569ab1632332b64b2c03c39dcf918b08424e98f38b5ae0af88f"
  },
  "kernelspec": {
   "display_name": "Python 3.7.4 64-bit ('base': conda)",
   "name": "python3"
  },
  "language_info": {
   "codemirror_mode": {
    "name": "ipython",
    "version": 3
   },
   "file_extension": ".py",
   "mimetype": "text/x-python",
   "name": "python",
   "nbconvert_exporter": "python",
   "pygments_lexer": "ipython3",
   "version": "3.7.4"
  },
  "orig_nbformat": 4
 },
 "nbformat": 4,
 "nbformat_minor": 2
}
