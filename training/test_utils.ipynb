{
 "cells": [
  {
   "cell_type": "code",
   "execution_count": 2,
   "metadata": {},
   "outputs": [
    {
     "data": {
      "text/html": [
       "<div>\n",
       "<style scoped>\n",
       "    .dataframe tbody tr th:only-of-type {\n",
       "        vertical-align: middle;\n",
       "    }\n",
       "\n",
       "    .dataframe tbody tr th {\n",
       "        vertical-align: top;\n",
       "    }\n",
       "\n",
       "    .dataframe thead th {\n",
       "        text-align: right;\n",
       "    }\n",
       "</style>\n",
       "<table border=\"1\" class=\"dataframe\">\n",
       "  <thead>\n",
       "    <tr style=\"text-align: right;\">\n",
       "      <th></th>\n",
       "      <th>body</th>\n",
       "      <th>judgement</th>\n",
       "      <th>comment_body</th>\n",
       "    </tr>\n",
       "  </thead>\n",
       "  <tbody>\n",
       "    <tr>\n",
       "      <th>0</th>\n",
       "      <td>[AITA, for, giving, my, group, member, a, bad,...</td>\n",
       "      <td>1</td>\n",
       "      <td>[YTA, She, contributed, to, the, project, (, m...</td>\n",
       "    </tr>\n",
       "    <tr>\n",
       "      <th>1</th>\n",
       "      <td>[AITA, for, giving, my, group, member, a, bad,...</td>\n",
       "      <td>1</td>\n",
       "      <td>[YTA, She, contributed, to, the, project, (, m...</td>\n",
       "    </tr>\n",
       "    <tr>\n",
       "      <th>2</th>\n",
       "      <td>[AITA, for, giving, my, group, member, a, bad,...</td>\n",
       "      <td>1</td>\n",
       "      <td>[YTA, She, contributed, to, the, project, (, m...</td>\n",
       "    </tr>\n",
       "  </tbody>\n",
       "</table>\n",
       "</div>"
      ],
      "text/plain": [
       "                                                body  judgement  \\\n",
       "0  [AITA, for, giving, my, group, member, a, bad,...          1   \n",
       "1  [AITA, for, giving, my, group, member, a, bad,...          1   \n",
       "2  [AITA, for, giving, my, group, member, a, bad,...          1   \n",
       "\n",
       "                                        comment_body  \n",
       "0  [YTA, She, contributed, to, the, project, (, m...  \n",
       "1  [YTA, She, contributed, to, the, project, (, m...  \n",
       "2  [YTA, She, contributed, to, the, project, (, m...  "
      ]
     },
     "execution_count": 2,
     "metadata": {},
     "output_type": "execute_result"
    }
   ],
   "source": [
    "import utils\n",
    "df = utils.read_json(\"example.json\")\n",
    "utils.preprocess(df).head()"
   ]
  }
 ],
 "metadata": {
  "interpreter": {
   "hash": "40d3a090f54c6569ab1632332b64b2c03c39dcf918b08424e98f38b5ae0af88f"
  },
  "kernelspec": {
   "display_name": "Python 3.7.4 64-bit ('base': conda)",
   "name": "python3"
  },
  "language_info": {
   "codemirror_mode": {
    "name": "ipython",
    "version": 3
   },
   "file_extension": ".py",
   "mimetype": "text/x-python",
   "name": "python",
   "nbconvert_exporter": "python",
   "pygments_lexer": "ipython3",
   "version": "3.7.4"
  },
  "orig_nbformat": 4
 },
 "nbformat": 4,
 "nbformat_minor": 2
}
