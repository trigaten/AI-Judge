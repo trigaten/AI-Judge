{
 "cells": [
  {
   "cell_type": "code",
   "execution_count": 1,
   "source": [
    "import sys\n",
    "sys.path.append(\"..\")\n",
    "import processing"
   ],
   "outputs": [
    {
     "output_type": "stream",
     "name": "stderr",
     "text": [
      "[nltk_data] Downloading package punkt to /Users/sander/nltk_data...\n",
      "[nltk_data]   Package punkt is already up-to-date!\n",
      "[nltk_data] Downloading package stopwords to\n",
      "[nltk_data]     /Users/sander/nltk_data...\n",
      "[nltk_data]   Package stopwords is already up-to-date!\n"
     ]
    }
   ],
   "metadata": {}
  },
  {
   "cell_type": "code",
   "execution_count": 7,
   "source": [
    "data = processing.read_csv(path = '/Users/sander/Desktop/ML_Learn/AI-Judge/aita_clean.csv', do_preprocess=True, samples=1000)"
   ],
   "outputs": [],
   "metadata": {}
  },
  {
   "cell_type": "code",
   "execution_count": 8,
   "source": [
    "len(data)"
   ],
   "outputs": [
    {
     "output_type": "execute_result",
     "data": {
      "text/plain": [
       "1000"
      ]
     },
     "metadata": {},
     "execution_count": 8
    }
   ],
   "metadata": {}
  },
  {
   "cell_type": "code",
   "execution_count": 9,
   "source": [
    "data[\"body\"] = data[\"title\"] + data[\"body\"]\n",
    "data.drop([\"title\"], axis=1, inplace=True)\n",
    "# all_text.head(1)\n",
    "# processing.freq_map(data[])\n",
    "data.head()[\"body\"]"
   ],
   "outputs": [
    {
     "output_type": "execute_result",
     "data": {
      "text/plain": [
       "76773    [aita, want, gf, chore, home, f, gf, f, live, ...\n",
       "32033    [aita, upset, get, anyth, mother, day, feel, l...\n",
       "73097    [aita, refus, leav, contact, detail, dashcam, ...\n",
       "21475    [aita, tell, girl, ha, crush, giggl, fuck, wei...\n",
       "81055    [aita, want, sister, move, bil, move, husband,...\n",
       "Name: body, dtype: object"
      ]
     },
     "metadata": {},
     "execution_count": 9
    }
   ],
   "metadata": {}
  },
  {
   "cell_type": "code",
   "execution_count": 12,
   "source": [
    "vocabulary = {}\n",
    "# count how many of each word occur\n",
    "def dmap(arr):\n",
    "    for word in arr:\n",
    "        if word in vocabulary:\n",
    "            vocabulary[word]+=1\n",
    "        else:\n",
    "            vocabulary[word]=1\n",
    "data[\"body\"].apply(lambda arr: dmap(arr))\n",
    "\n",
    "# remove all keys which occur less than 3 times\n",
    "vocabulary = {key : count for key, count in vocabulary.items() if count > 3}\n",
    "\n",
    "vocabulary = list(vocabulary)\n",
    "len(vocabulary)\n"
   ],
   "outputs": [
    {
     "output_type": "execute_result",
     "data": {
      "text/plain": [
       "3139"
      ]
     },
     "metadata": {},
     "execution_count": 12
    }
   ],
   "metadata": {}
  },
  {
   "cell_type": "code",
   "execution_count": 78,
   "source": [
    "import torch\n",
    "from torch import nn\n",
    "\n",
    "embedding = nn.Embedding(len(vocabulary),30)"
   ],
   "outputs": [],
   "metadata": {}
  }
 ],
 "metadata": {
  "orig_nbformat": 4,
  "language_info": {
   "name": "python",
   "version": "3.7.6",
   "mimetype": "text/x-python",
   "codemirror_mode": {
    "name": "ipython",
    "version": 3
   },
   "pygments_lexer": "ipython3",
   "nbconvert_exporter": "python",
   "file_extension": ".py"
  },
  "kernelspec": {
   "name": "python3",
   "display_name": "Python 3.7.6 64-bit ('env-01': conda)"
  },
  "interpreter": {
   "hash": "11c2be88f15dea8b513222d7a556897487a11c59fb4214608930d2b4ac024c80"
  }
 },
 "nbformat": 4,
 "nbformat_minor": 2
}